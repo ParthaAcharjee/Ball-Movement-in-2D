{
 "cells": [
  {
   "cell_type": "markdown",
   "metadata": {
    "deletable": true,
    "editable": true
   },
   "source": [
    "# Ball movement in a 2D space\n",
    "In this project, we will set N balls in a 2D space, and calculate the new positions periodically. All collision will be considered a ellastic collision.\n",
    "\n",
    "First let us import all related python packages"
   ]
  },
  {
   "cell_type": "code",
   "execution_count": 49,
   "metadata": {
    "collapsed": false,
    "deletable": true,
    "editable": true
   },
   "outputs": [
    {
     "name": "stdout",
     "output_type": "stream",
     "text": [
      "This is a Jupyter notebook.\n"
     ]
    }
   ],
   "source": [
    "import random as rnd\n",
    "import matplotlib.pyplot as plt\n",
    "import numpy as np\n",
    "import matplotlib.animation as animation\n",
    "from IPython.display import HTML\n",
    "\n",
    "\n",
    "print(\"This is a Jupyter notebook.\")"
   ]
  },
  {
   "cell_type": "markdown",
   "metadata": {
    "deletable": true,
    "editable": true
   },
   "source": [
    "## Define the ball class and other functions\n",
    "Now, we are going to set the ball class. \n",
    "### definition\n",
    "In the constractor definition, we defined five properties of a ball position(x,y), size(r), and velocities(vx,by). We defined a count variable to track the number of balls in the system.\n",
    "### functions\n",
    "show() function shows all properties of a single ball.<br>\n",
    "plot() function plots a single ball<br>\n",
    "updateposition() function update balls position and velocities after a collision with the boundaries."
   ]
  },
  {
   "cell_type": "code",
   "execution_count": 50,
   "metadata": {
    "collapsed": false,
    "deletable": true,
    "editable": true
   },
   "outputs": [],
   "source": [
    "# Define the ball class with all its functions\n",
    "class ball:\n",
    "    'Ball class, store ball position and velocities'\n",
    "    count=0\n",
    "    \n",
    "    def __init__(self,**arg):\n",
    "        if 'x' in arg.keys():\n",
    "            self.x=arg['x'];\n",
    "        else:\n",
    "            self.x=rnd.randrange(0,100,1);\n",
    "        \n",
    "        if 'y' in arg.keys():    \n",
    "            self.y=arg['y'];\n",
    "        else:\n",
    "            self.y=rnd.randrange(0,100,1);\n",
    "\n",
    "        if 'r' in arg.keys():    \n",
    "            self.r=arg['r'];\n",
    "        else:\n",
    "            self.r=1;\n",
    "         \n",
    "        if 'vx' in arg.keys():        \n",
    "            self.vx=arg['vx'];\n",
    "        else:\n",
    "            self.vx=rnd.randrange(-10,10,1);\n",
    "        \n",
    "        if 'vy' in arg.keys():\n",
    "            self.vy=arg['vy'];\n",
    "        else:\n",
    "            self.vy=rnd.randrange(-10,10,1);\n",
    "        \n",
    "        ball.count+=1;\n",
    "     \n",
    "     \n",
    "    def show(self):\n",
    "        print (\"x,y,vx,vy: \",self.x,self.y,self.vx,self.vy)\n",
    "    \n",
    "    def plot(self):\n",
    "        plt.scatter(self.x,self.y)\n",
    "        \n",
    "    def updatePosition(self,t,L):\n",
    "        xmin,xmax,ymin,ymax=L;\n",
    "        xnew=self.x+self.vx*t;\n",
    "        ynew=self.y+self.vy*t;\n",
    "\n",
    "        if xnew>xmax: xnew=2*xmax-xnew;self.vx=-self.vx;\n",
    "        if xnew<xmin: xnew=2*xmin-xnew;self.vx=-self.vx;\n",
    "        if ynew>ymax: ynew=2*ymax-ynew;self.vy=-self.vy;\n",
    "        if ynew<ymin: ynew=2*ymin-ynew;self.vy=-self.vy;\n",
    "\n",
    "        self.x=xnew;\n",
    "        self.y=ynew;\n",
    "        return\n",
    "########### End of classes #################### "
   ]
  },
  {
   "cell_type": "markdown",
   "metadata": {
    "deletable": true,
    "editable": true
   },
   "source": [
    "### supporting functions\n",
    "Now we defined two more supporting functions.<br>\n",
    "The checkCollision(a,b) function check if ball a and b collide or not. <br>\n",
    "The collisionUpdate(a,b) function update the velocities of balls a and b after a collision."
   ]
  },
  {
   "cell_type": "code",
   "execution_count": 51,
   "metadata": {
    "collapsed": true,
    "deletable": true,
    "editable": true
   },
   "outputs": [],
   "source": [
    "def checkCollision(a,b):\n",
    "    return pow(pow(a.x-b.x,2)+pow(a.y-b.y,2),0.5)<(a.r+b.r)\n",
    "\n",
    "def collisionUpdate(a,b):\n",
    "    c=((a.vx-b.vx)*(a.x-b.x)+(a.vy-b.vy)*(a.y-b.y))/(pow(a.x-b.x,2)+pow(a.y-b.y,2));\n",
    "    a.vx=a.vx-c*(a.x-b.x);\n",
    "    a.vy=a.vy-c*(a.y-b.y);\n",
    "\n",
    "    b.vx=b.vx+c*(a.x-b.x);\n",
    "    b.vy=b.vy+c*(a.y-b.y);\n",
    "    return a,b;                      \n",
    "########### End of functions ####################"
   ]
  },
  {
   "cell_type": "markdown",
   "metadata": {
    "deletable": true,
    "editable": true
   },
   "source": [
    "## The main function\n",
    "In the main function, we defined 50 balls in random position, calculate balls position for 500 cycle, and update time is 0.1 second. plt.hold() is not supported in the jupyter notebook. Therefore, I commented that line. "
   ]
  },
  {
   "cell_type": "code",
   "execution_count": 52,
   "metadata": {
    "collapsed": false,
    "deletable": true,
    "editable": true
   },
   "outputs": [],
   "source": [
    "N=50\n",
    "b=[ball() for k in range(0,N)]\n",
    "t=0.1\n",
    "boundary=(0,100,0,100)\n",
    "CYCLE=500;\n",
    "ims=[]\n",
    "\n",
    "# set initial figure \n",
    "fig=plt.figure()\n",
    "ax = fig.add_axes([0, 0, 1, 1])\n",
    "ax.set_xlim(-1, 101)\n",
    "ax.set_ylim(-1, 101)\n",
    "\n",
    "\n",
    "for cycle in range(0,CYCLE):\n",
    "    for m in range(0,N-1):\n",
    "        for n in range(m+1,N):\n",
    "            collision=checkCollision(b[m],b[n])\n",
    "            \n",
    "            if collision:\n",
    "                b[m],b[n]=collisionUpdate(b[m],b[n])\n",
    "                continue\n",
    "    \n",
    "    for k in range(0,N):\n",
    "        b[k].updatePosition(t,boundary);\n",
    "    \n",
    "    data=np.zeros((N,2))            \n",
    "    for k in range(0,N):\n",
    "        data[k,]=b[k].x,b[k].y\n",
    "    \n",
    "    \n",
    "    im=ax.scatter(data[:,0],data[:,1],animated=True,color='blue')\n",
    "    ims.append([im])\n",
    "    \n",
    "    "
   ]
  },
  {
   "cell_type": "code",
   "execution_count": 53,
   "metadata": {
    "collapsed": false,
    "deletable": true,
    "editable": true,
    "scrolled": false
   },
   "outputs": [
    {
     "data": {
      "image/png": "[encoded data removed]",
      "text/plain": [
       "<matplotlib.figure.Figure at 0xb5ca730>"
      ]
     },
     "metadata": {},
     "output_type": "display_data"
    },
    {
     "data": {
      "image/png": "[encoded data removed]",
      "text/plain": [
       "<matplotlib.figure.Figure at 0xccb3990>"
      ]
     },
     "metadata": {},
     "output_type": "display_data"
    },
    {
     "data": {
      "image/png": "[encoded data removed]",
      "text/plain": [
       "<matplotlib.figure.Figure at 0xcd8b510>"
      ]
     },
     "metadata": {},
     "output_type": "display_data"
    }
   ],
   "source": [
    "\n",
    "ani = animation.ArtistAnimation(fig, ims, interval=50, blit=True,\n",
    "                                repeat_delay=100)\n",
    "\n",
    "HTML(ani.to_html5_video())\n",
    "plt.show()"
   ]
  },
  {
   "cell_type": "markdown",
   "metadata": {
    "collapsed": true,
    "deletable": true,
    "editable": true
   },
   "source": [
    "(Download the .mp4 file from the Ball-Movement-in-2D folder if no animation is embeded in your browser)<br>\n",
    "Thank you!"
   ]
  }
 ],
 "metadata": {
  "kernelspec": {
   "display_name": "Python 2",
   "language": "python",
   "name": "python2"
  },
  "language_info": {
   "codemirror_mode": {
    "name": "ipython",
    "version": 2
   },
   "file_extension": ".py",
   "mimetype": "text/x-python",
   "name": "python",
   "nbconvert_exporter": "python",
   "pygments_lexer": "ipython2",
   "version": "2.7.9"
  }
 },
 "nbformat": 4,
 "nbformat_minor": 2
}
